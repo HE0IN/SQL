{
 "cells": [
  {
   "cell_type": "markdown",
   "metadata": {},
   "source": [
    "# 데이터 베이스 연결"
   ]
  },
  {
   "cell_type": "code",
   "execution_count": 4,
   "metadata": {},
   "outputs": [],
   "source": [
    "import pymysql\n",
    "conn = pymysql.connect(host='127.0.0.1', user='root', password='0000', db='soloDB', charset='utf8')\n",
    "cur = conn.cursor()"
   ]
  },
  {
   "cell_type": "markdown",
   "metadata": {},
   "source": [
    "# 데이터 베이스, 테이블 만들기"
   ]
  },
  {
   "cell_type": "code",
   "execution_count": null,
   "metadata": {},
   "outputs": [],
   "source": [
    "import pymysql\n",
    "\n",
    "# MySQL 연결 설정\n",
    "conn = pymysql.connect(host='127.0.0.1', user='root', password='0000', db='soloDB', charset='utf8')\n",
    "cur = conn.cursor()\n",
    "\n",
    "# 데이터베이스 생성\n",
    "cur.execute(\"CREATE DATABASE IF NOT EXISTS soloDB;\")\n",
    "cur.execute(\"USE soloDB;\")\n",
    "\n",
    "# 테이블 생성\n",
    "cur.execute(\"\"\"\n",
    "CREATE TABLE IF NOT EXISTS userTable (\n",
    "    userID VARCHAR(20) PRIMARY KEY,\n",
    "    userName VARCHAR(50),\n",
    "    userEmail VARCHAR(50),\n",
    "    userBirthYear INT\n",
    ");\n",
    "\"\"\")\n",
    "\n",
    "# 변경사항 커밋 및 연결 종료\n",
    "conn.commit()\n",
    "conn.close()\n"
   ]
  },
  {
   "cell_type": "markdown",
   "metadata": {},
   "source": [
    "# 데이터 베이스 입력 프로그램"
   ]
  },
  {
   "cell_type": "code",
   "execution_count": 1,
   "metadata": {},
   "outputs": [],
   "source": [
    "import pymysql\n",
    "\n",
    "def insert_user(user_id, user_name, user_email, user_birth_year):\n",
    "    # MySQL 데이터베이스 연결 설정\n",
    "    conn = pymysql.connect(\n",
    "        host='127.0.0.1',\n",
    "        user='root',\n",
    "        password='0000',\n",
    "        db='soloDB',\n",
    "        charset='utf8'\n",
    "    )\n",
    "    cur = conn.cursor()\n",
    "\n",
    "    # 사용자 데이터를 userTable에 삽입\n",
    "    sql = \"INSERT INTO userTable (userID, userName, userEmail, userBirthYear) VALUES (%s, %s, %s, %s)\"\n",
    "    cur.execute(sql, (user_id, user_name, user_email, user_birth_year))\n",
    "\n",
    "    # 변경사항 커밋 및 연결 종료\n",
    "    conn.commit()\n",
    "    conn.close()\n",
    "\n",
    "# 사용자 입력\n",
    "while True:\n",
    "    user_id = input(\"사용자 ID ==> \")\n",
    "    if user_id == \"\":\n",
    "        break\n",
    "    user_name = input(\"사용자 이름 ==> \")\n",
    "    user_email = input(\"사용자 이메일 ==> \")\n",
    "    user_birth_year = input(\"사용자 출생년도 ==> \")\n",
    "    \n",
    "    insert_user(user_id, user_name, user_email, user_birth_year)\n"
   ]
  },
  {
   "cell_type": "markdown",
   "metadata": {},
   "source": [
    "# 데이터베이스 조회 프로그램"
   ]
  },
  {
   "cell_type": "code",
   "execution_count": 5,
   "metadata": {},
   "outputs": [
    {
     "name": "stdout",
     "output_type": "stream",
     "text": [
      "사용자 ID    이름      이메일          출생년도\n",
      "-----------------------------------------------\n",
      "('syy1839', '허영인', 'syy1839@naver.com', 1999)\n"
     ]
    }
   ],
   "source": [
    "import pymysql\n",
    "\n",
    "def fetch_users():\n",
    "    # MySQL 데이터베이스 연결 설정\n",
    "    conn = pymysql.connect(\n",
    "        host='127.0.0.1',\n",
    "        user='root',\n",
    "        password='0000',\n",
    "        db='soloDB',\n",
    "        charset='utf8'\n",
    "    )\n",
    "    cur = conn.cursor()\n",
    "\n",
    "    # userTable에서 사용자 데이터 조회\n",
    "    sql = \"SELECT * FROM userTable\"\n",
    "    cur.execute(sql)\n",
    "    rows = cur.fetchall()\n",
    "\n",
    "    print(\"사용자 ID    이름      이메일          출생년도\")\n",
    "    print(\"-----------------------------------------------\")\n",
    "\n",
    "    # 결과 출력\n",
    "    for row in rows:\n",
    "        print(row)\n",
    "\n",
    "    # 연결 종료\n",
    "    conn.close()\n",
    "\n",
    "# 사용자 데이터 조회\n",
    "fetch_users()\n"
   ]
  }
 ],
 "metadata": {
  "kernelspec": {
   "display_name": "projectA",
   "language": "python",
   "name": "python3"
  },
  "language_info": {
   "codemirror_mode": {
    "name": "ipython",
    "version": 3
   },
   "file_extension": ".py",
   "mimetype": "text/x-python",
   "name": "python",
   "nbconvert_exporter": "python",
   "pygments_lexer": "ipython3",
   "version": "3.12.4"
  }
 },
 "nbformat": 4,
 "nbformat_minor": 2
}
