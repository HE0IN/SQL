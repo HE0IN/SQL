{
 "cells": [
  {
   "cell_type": "markdown",
   "metadata": {},
   "source": [
    "# 데이터 베이스 연결"
   ]
  },
  {
   "cell_type": "code",
   "execution_count": 4,
   "metadata": {},
   "outputs": [],
   "source": [
    "import pymysql\n",
    "conn = pymysql.connect(host='127.0.0.1', user='root', password='0000', db='soloDB', charset='utf8')\n",
    "cur = conn.cursor()"
   ]
  },
  {
   "cell_type": "markdown",
   "metadata": {},
   "source": [
    "# 데이터 베이스, 테이블 만들기"
   ]
  },
  {
   "cell_type": "code",
   "execution_count": null,
   "metadata": {},
   "outputs": [],
   "source": [
    "import pymysql\n",
    "\n",
    "# MySQL 연결 설정\n",
    "conn = pymysql.connect(host='127.0.0.1', user='root', password='0000', db='soloDB', charset='utf8')\n",
    "cur = conn.cursor()\n",
    "\n",
    "# 데이터베이스 생성\n",
    "cur.execute(\"CREATE DATABASE IF NOT EXISTS soloDB;\")\n",
    "cur.execute(\"USE soloDB;\")\n",
    "\n",
    "# 테이블 생성\n",
    "cur.execute(\"\"\"\n",
    "CREATE TABLE IF NOT EXISTS userTable (\n",
    "    userID VARCHAR(20) PRIMARY KEY,\n",
    "    userName VARCHAR(50),\n",
    "    userEmail VARCHAR(50),\n",
    "    userBirthYear INT\n",
    ");\n",
    "\"\"\")\n",
    "\n",
    "# 변경사항 커밋 및 연결 종료\n",
    "conn.commit()\n",
    "conn.close()\n"
   ]
  },
  {
   "cell_type": "markdown",
   "metadata": {},
   "source": [
    "# 데이터 베이스 입력 프로그램"
   ]
  },
  {
   "cell_type": "code",
   "execution_count": null,
   "metadata": {},
   "outputs": [],
   "source": [
    "import pymysql\n",
    "\n",
    "def insert_user(user_id, user_name, user_email, user_birth_year):\n",
    "    # MySQL 데이터베이스 연결 설정\n",
    "    conn = pymysql.connect(\n",
    "        host='127.0.0.1',\n",
    "        user='root',\n",
    "        password='0000',\n",
    "        db='soloDB',\n",
    "        charset='utf8'\n",
    "    )\n",
    "    cur = conn.cursor()\n",
    "\n",
    "    # 사용자 데이터를 userTable에 삽입\n",
    "    sql = \"INSERT INTO userTable (userID, userName, userEmail, userBirthYear) VALUES (%s, %s, %s, %s)\"\n",
    "    cur.execute(sql, (user_id, user_name, user_email, user_birth_year))\n",
    "\n",
    "    # 변경사항 커밋 및 연결 종료\n",
    "    conn.commit()\n",
    "    conn.close()\n",
    "\n",
    "# 사용자 입력\n",
    "while True:\n",
    "    user_id = input(\"사용자 ID ==> \")\n",
    "    if user_id == \"\":\n",
    "        break\n",
    "    user_name = input(\"사용자 이름 ==> \")\n",
    "    user_email = input(\"사용자 이메일 ==> \")\n",
    "    user_birth_year = input(\"사용자 출생년도 ==> \")\n",
    "    \n",
    "    insert_user(user_id, user_name, user_email, user_birth_year)\n"
   ]
  },
  {
   "cell_type": "code",
   "execution_count": 1,
   "metadata": {},
   "outputs": [],
   "source": [
    "import pymysql\n",
    "\n",
    "def insert_user(user_id, user_name, user_email, user_birth_year):\n",
    "    # MySQL 데이터베이스 연결 설정\n",
    "    conn = pymysql.connect(\n",
    "        host='127.0.0.1',\n",
    "        user='root',\n",
    "        password='0000',\n",
    "        db='soloDB',\n",
    "        charset='utf8'\n",
    "    )\n",
    "    cur = conn.cursor()\n",
    "\n",
    "    # 사용자 데이터를 userTable에 삽입\n",
    "    sql = \"INSERT INTO userTable (userID, userName, userEmail, userBirthYear) VALUES (%s, %s, %s, %s)\"\n",
    "    cur.execute(sql, (user_id, user_name, user_email, user_birth_year))\n",
    "\n",
    "    # 변경사항 커밋 및 연결 종료\n",
    "    conn.commit()\n",
    "    conn.close()\n",
    "\n",
    "# 사용자 입력\n",
    "while True:\n",
    "    user_id = input(\"사용자 ID ==> \")\n",
    "    if user_id == \"\":\n",
    "        break\n",
    "    user_name = input(\"사용자 이름 ==> \")\n",
    "    user_email = input(\"사용자 이메일 ==> \")\n",
    "    user_birth_year = input(\"사용자 출생년도 ==> \")\n",
    "    \n",
    "    insert_user(user_id, user_name, user_email, user_birth_year)\n"
   ]
  },
  {
   "cell_type": "markdown",
   "metadata": {},
   "source": [
    "# 데이터베이스 조회 프로그램"
   ]
  },
  {
   "cell_type": "code",
   "execution_count": 5,
   "metadata": {},
   "outputs": [
    {
     "name": "stdout",
     "output_type": "stream",
     "text": [
      "사용자 ID    이름      이메일          출생년도\n",
      "-----------------------------------------------\n",
      "('syy1839', '허영인', 'syy1839@naver.com', 1999)\n"
     ]
    }
   ],
   "source": [
    "import pymysql\n",
    "\n",
    "def fetch_users():\n",
    "    # MySQL 데이터베이스 연결 설정\n",
    "    conn = pymysql.connect(\n",
    "        host='127.0.0.1',\n",
    "        user='root',\n",
    "        password='0000',\n",
    "        db='soloDB',\n",
    "        charset='utf8'\n",
    "    )\n",
    "    cur = conn.cursor()\n",
    "\n",
    "    # userTable에서 사용자 데이터 조회\n",
    "    sql = \"SELECT * FROM userTable\"\n",
    "    cur.execute(sql)\n",
    "    rows = cur.fetchall()\n",
    "\n",
    "    print(\"사용자 ID    이름      이메일          출생년도\")\n",
    "    print(\"-----------------------------------------------\")\n",
    "\n",
    "    # 결과 출력\n",
    "    for row in rows:\n",
    "        print(row)\n",
    "\n",
    "    # 연결 종료\n",
    "    conn.close()\n",
    "\n",
    "# 사용자 데이터 조회\n",
    "fetch_users()\n"
   ]
  },
  {
   "cell_type": "markdown",
   "metadata": {},
   "source": [
    "# TKINTER"
   ]
  },
  {
   "cell_type": "markdown",
   "metadata": {},
   "source": [
    "#### GUI 기본 윈도우 구성"
   ]
  },
  {
   "cell_type": "code",
   "execution_count": 10,
   "metadata": {},
   "outputs": [],
   "source": [
    "from tkinter import *\n",
    "\n",
    "root = Tk()  # 대문자 'TK'를 소문자 'Tk'로 수정\n",
    "\n",
    "root.mainloop()  # 함수 호출을 위해 괄호()를 추가합니다."
   ]
  },
  {
   "cell_type": "markdown",
   "metadata": {},
   "source": [
    "#### GUI 제목, 크기 설정"
   ]
  },
  {
   "cell_type": "code",
   "execution_count": 11,
   "metadata": {},
   "outputs": [],
   "source": [
    "from tkinter import *\n",
    "\n",
    "root = Tk()  # 대문자 'TK'를 소문자 'Tk'로 수정\n",
    "root.title(\"혼공 GUI 연습\")  # 창 제목 설정\n",
    "root.geometry(\"400x200\")  # 창 크기 설정\n",
    "\n",
    "root.mainloop()  # 함수 호출을 위해 괄호()를 추가합니다.\n"
   ]
  },
  {
   "cell_type": "markdown",
   "metadata": {},
   "source": [
    "#### GUI 라벨 설정"
   ]
  },
  {
   "cell_type": "code",
   "execution_count": 9,
   "metadata": {},
   "outputs": [],
   "source": [
    "from tkinter import *\n",
    "\n",
    "root = Tk()\n",
    "root.title(\"혼공 GUI 연습\")  # 창 제목 설정\n",
    "root.geometry(\"400x200\")  # 창 크기 설정\n",
    "\n",
    "label1 = Label(root, text=\"혼공 SQL은\")\n",
    "label2 = Label(root, text=\"쉽습니다.\", font = (\"궁서체\", 30), bg=\"blue\", fg=\"yellow\")\n",
    "label1.pack()\n",
    "label2.pack()\n",
    "\n",
    "root.mainloop()  # 함수 호출을 위해 괄호()를 추가합니다.\n"
   ]
  },
  {
   "cell_type": "markdown",
   "metadata": {},
   "source": [
    "#### GUI 버튼 설정"
   ]
  },
  {
   "cell_type": "code",
   "execution_count": 12,
   "metadata": {},
   "outputs": [],
   "source": [
    "from tkinter import *\n",
    "from tkinter import messagebox\n",
    "\n",
    "def clickButton():\n",
    "    messagebox.showinfo('버튼 클릭', '버튼을 눌렀습니다..')\n",
    "\n",
    "root = Tk()\n",
    "root.geometry(\"200x200\")\n",
    "\n",
    "button1 = Button(root, text=\"여기를 클릭하세요\", fg=\"red\", bg=\"yellow\", command=clickButton)\n",
    "button1.pack(expand=1)\n",
    "\n",
    "root.mainloop()\n"
   ]
  },
  {
   "cell_type": "markdown",
   "metadata": {},
   "source": [
    "#### 위젯의 정렬"
   ]
  },
  {
   "cell_type": "code",
   "execution_count": 13,
   "metadata": {},
   "outputs": [],
   "source": [
    "from tkinter import *\n",
    "\n",
    "root = Tk()\n",
    "\n",
    "button1 = Button(root, text=\"혼공1\")\n",
    "button2 = Button(root, text=\"혼공2\")\n",
    "button3 = Button(root, text=\"혼공3\")\n",
    "\n",
    "button1.pack(side=LEFT)\n",
    "button2.pack(side=LEFT)\n",
    "button3.pack(side=LEFT)\n",
    "\n",
    "root.mainloop()"
   ]
  },
  {
   "cell_type": "markdown",
   "metadata": {},
   "source": [
    "#### 위젯 사이에 여백 추가"
   ]
  },
  {
   "cell_type": "code",
   "execution_count": 14,
   "metadata": {},
   "outputs": [],
   "source": [
    "from tkinter import *\n",
    "\n",
    "root = Tk()\n",
    "\n",
    "button1 = Button(root, text=\"혼공1\")\n",
    "button2 = Button(root, text=\"혼공2\")\n",
    "button3 = Button(root, text=\"혼공3\")\n",
    "\n",
    "button1.pack(side=TOP, fill = X, padx = 10, pady = 10)\n",
    "button2.pack(side=TOP, fill = X, padx = 10, pady = 10)\n",
    "button3.pack(side=TOP, fill = X, padx = 10, pady = 10)\n",
    "\n",
    "root.mainloop()\n"
   ]
  },
  {
   "cell_type": "markdown",
   "metadata": {},
   "source": [
    "#### 프레임 엔트리 리스트 박스"
   ]
  },
  {
   "cell_type": "code",
   "execution_count": 15,
   "metadata": {},
   "outputs": [],
   "source": [
    "from tkinter import *\n",
    "\n",
    "root = Tk()\n",
    "root.geometry(\"200x250\")  # 창 크기 설정\n",
    "\n",
    "upFrame = Frame(root)\n",
    "upFrame.pack()\n",
    "downFrame = Frame(root)\n",
    "downFrame.pack()\n",
    "\n",
    "editBox = Entry(upFrame, width = 10)\n",
    "editBox.pack(padx = 20, pady =20)\n",
    "\n",
    "listbox = Listbox(downFrame, bg = 'yellow')\n",
    "listbox.pack()\n",
    "\n",
    "listbox.insert(END, \"하나\")\n",
    "listbox.insert(END, \"둘\")\n",
    "listbox.insert(END, \"셋\")\n",
    "\n",
    "root.mainloop()"
   ]
  },
  {
   "cell_type": "markdown",
   "metadata": {},
   "source": [
    "# 완전한 형태의 GUI 응용 프로그래밍"
   ]
  },
  {
   "cell_type": "code",
   "execution_count": 22,
   "metadata": {},
   "outputs": [],
   "source": [
    "import pymysql\n",
    "from tkinter import *\n",
    "from tkinter import messagebox\n",
    "\n",
    "# 데이터 삽입 함수\n",
    "def insertData():\n",
    "    conn, cur = None, None\n",
    "    data1, data2, data3, data4 = \"\", \"\", \"\", \"\"\n",
    "    sql = \"\"\n",
    "\n",
    "    # 데이터베이스 연결 설정\n",
    "    conn = pymysql.connect(host='127.0.0.1', user='root', password='0000', db='soloDB', charset='utf8')\n",
    "    cur = conn.cursor()\n",
    "\n",
    "    # 입력 데이터 가져오기\n",
    "    data1 = edt1.get()\n",
    "    data2 = edt2.get()\n",
    "    data3 = edt3.get()\n",
    "    data4 = edt4.get()\n",
    "    \n",
    "    # SQL 쿼리 작성\n",
    "    sql = \"INSERT INTO userTable Values('\" + data1 + \"', '\" + data2 + \"', '\" + data3 + \"', \" + data4 + \")\"\n",
    "    \n",
    "    # SQL 쿼리 실행\n",
    "    cur.execute(sql)\n",
    "\n",
    "    # 변경사항 커밋 및 연결 종료\n",
    "    conn.commit()\n",
    "    conn.close()\n",
    "\n",
    "    # 성공 메시지 출력\n",
    "    messagebox.showinfo('성공', '데이터 입력 성공')\n",
    "\n",
    "# 데이터 조회 함수\n",
    "def selectData():\n",
    "    strData1, strData2, strData3, strData4 = [], [], [], []\n",
    "\n",
    "    # 데이터베이스 연결 설정\n",
    "    conn = pymysql.connect(host='127.0.0.1', user='root', password='0000', db='soloDB', charset='utf8')\n",
    "    cur = conn.cursor()\n",
    "\n",
    "    # SQL 쿼리 실행\n",
    "    cur.execute(\"SELECT * FROM userTable\")\n",
    "\n",
    "    # 컬럼 이름 추가\n",
    "    strData1.append(\"사용자 ID\")\n",
    "    strData2.append(\"사용자 이름\")\n",
    "    strData3.append(\"사용자 이메일\")\n",
    "    strData4.append(\"사용자 출생년도\")\n",
    "    strData1.append(\"----------\")\n",
    "    strData2.append(\"----------\")\n",
    "    strData3.append(\"----------\")\n",
    "    strData4.append(\"----------\")\n",
    "\n",
    "    # 데이터 가져오기\n",
    "    while True:\n",
    "        row = cur.fetchone()\n",
    "        if row is None:\n",
    "            break\n",
    "        strData1.append(row[0])\n",
    "        strData2.append(row[1])\n",
    "        strData3.append(row[2])\n",
    "        strData4.append(row[3])\n",
    "\n",
    "    # 기존 데이터 삭제\n",
    "    listData1.delete(0, listData1.size() - 1)\n",
    "    listData2.delete(0, listData2.size() - 1)\n",
    "    listData3.delete(0, listData3.size() - 1)\n",
    "    listData4.delete(0, listData4.size() - 1)\n",
    "\n",
    "    # 새로운 데이터 추가\n",
    "    for item1, item2, item3, item4 in zip(strData1, strData2, strData3, strData4):\n",
    "        listData1.insert(END, item1)\n",
    "        listData2.insert(END, item2)\n",
    "        listData3.insert(END, item3)\n",
    "        listData4.insert(END, item4)\n",
    "\n",
    "    # 연결 종료\n",
    "    conn.close()\n",
    "\n",
    "# Tkinter 메인 윈도우 설정\n",
    "root = Tk()\n",
    "root.geometry(\"600x300\")  # 창 크기 설정\n",
    "root.title(\"완벽한 GUI 응용프로그램\")  # 창 제목 설정\n",
    "\n",
    "# 입력 프레임 설정\n",
    "edtFrame = Frame(root)\n",
    "edtFrame.pack()\n",
    "\n",
    "# 리스트 프레임 설정\n",
    "listFrame = Frame(root)\n",
    "listFrame.pack(side=BOTTOM, fill=BOTH, expand=1)\n",
    "\n",
    "# 입력 필드 설정\n",
    "edt1 = Entry(edtFrame, width=10)\n",
    "edt1.pack(side=LEFT, padx=10, pady=10)\n",
    "edt2 = Entry(edtFrame, width=10)\n",
    "edt2.pack(side=LEFT, padx=10, pady=10)\n",
    "edt3 = Entry(edtFrame, width=10)\n",
    "edt3.pack(side=LEFT, padx=10, pady=10)\n",
    "edt4 = Entry(edtFrame, width=10)\n",
    "edt4.pack(side=LEFT, padx=10, pady=10)\n",
    "\n",
    "# 버튼 설정\n",
    "btnInsert = Button(edtFrame, text=\"입력\", command=insertData)\n",
    "btnInsert.pack(side=LEFT, padx=10, pady=10)\n",
    "btnSelect = Button(edtFrame, text=\"조회\", command=selectData)\n",
    "btnSelect.pack(side=LEFT, padx=10, pady=10)\n",
    "\n",
    "# 리스트박스 설정\n",
    "listData1 = Listbox(listFrame, bg='yellow')\n",
    "listData1.pack(side=LEFT, fill=BOTH, expand=1)\n",
    "listData2 = Listbox(listFrame, bg='yellow')\n",
    "listData2.pack(side=LEFT, fill=BOTH, expand=1)\n",
    "listData3 = Listbox(listFrame, bg='yellow')\n",
    "listData3.pack(side=LEFT, fill=BOTH, expand=1)\n",
    "listData4 = Listbox(listFrame, bg='yellow')\n",
    "listData4.pack(side=LEFT, fill=BOTH, expand=1)\n",
    "\n",
    "# Tkinter 메인 이벤트 루프 시작\n",
    "root.mainloop()\n"
   ]
  }
 ],
 "metadata": {
  "kernelspec": {
   "display_name": "projectA",
   "language": "python",
   "name": "python3"
  },
  "language_info": {
   "codemirror_mode": {
    "name": "ipython",
    "version": 3
   },
   "file_extension": ".py",
   "mimetype": "text/x-python",
   "name": "python",
   "nbconvert_exporter": "python",
   "pygments_lexer": "ipython3",
   "version": "3.12.4"
  }
 },
 "nbformat": 4,
 "nbformat_minor": 2
}
